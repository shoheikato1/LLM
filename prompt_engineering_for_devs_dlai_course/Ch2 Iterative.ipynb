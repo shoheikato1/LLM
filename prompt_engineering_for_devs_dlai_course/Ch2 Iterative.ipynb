{
 "cells": [
  {
   "cell_type": "markdown",
   "metadata": {},
   "source": [
    "# Chapter2: Iterative Prompt Development\n",
    "There is no template that works for every situation, it's more important that you have a process to iterate and refine your prompt\n",
    "- Try something\n",
    "- Analyze where the result does not give what you want\n",
    "- Clarify instructions, give more time to think\n",
    "- Refine prompts with a batch of examples"
   ]
  },
  {
   "cell_type": "code",
   "execution_count": 1,
   "metadata": {},
   "outputs": [],
   "source": [
    "# import openai\n",
    "# import os\n",
    "\n",
    "# from dotenv import load_dotenv, find_dotenv\n",
    "# _ = load_dotenv(find_dotenv()) #read local .env file\n",
    "\n",
    "# openai.api_key  = os.getenv('OPENAI_API_KEY')"
   ]
  },
  {
   "cell_type": "code",
   "execution_count": 2,
   "metadata": {},
   "outputs": [],
   "source": [
    "# def get_completion(prompt, model=\"gpt-3.5-turbo\"):\n",
    "#     messages = [{\"role\": \"user\", \"content\": prompt}]\n",
    "#     response = openai.ChatCompletion.create(\n",
    "#         model=model,\n",
    "#         messages=messages,\n",
    "#         temperature=0, # this is the degree of randomness of the model's output\n",
    "#     )\n",
    "#     return response.choices[0].message[\"content\"]"
   ]
  },
  {
   "cell_type": "markdown",
   "metadata": {},
   "source": [
    "## Example - Furniture description"
   ]
  },
  {
   "cell_type": "code",
   "execution_count": 3,
   "metadata": {},
   "outputs": [],
   "source": [
    "fact_sheet_chair = \"\"\"\n",
    "OVERVIEW\n",
    "- Part of a beautiful family of mid-century inspired office furniture, \n",
    "including filing cabinets, desks, bookcases, meeting tables, and more.\n",
    "- Several options of shell color and base finishes.\n",
    "- Available with plastic back and front upholstery (SWC-100) \n",
    "or full upholstery (SWC-110) in 10 fabric and 6 leather options.\n",
    "- Base finish options are: stainless steel, matte black, \n",
    "gloss white, or chrome.\n",
    "- Chair is available with or without armrests.\n",
    "- Suitable for home or business settings.\n",
    "- Qualified for contract use.\n",
    "\n",
    "CONSTRUCTION\n",
    "- 5-wheel plastic coated aluminum base.\n",
    "- Pneumatic chair adjust for easy raise/lower action.\n",
    "\n",
    "DIMENSIONS\n",
    "- WIDTH 53 CM | 20.87”\n",
    "- DEPTH 51 CM | 20.08”\n",
    "- HEIGHT 80 CM | 31.50”\n",
    "- SEAT HEIGHT 44 CM | 17.32”\n",
    "- SEAT DEPTH 41 CM | 16.14”\n",
    "\n",
    "OPTIONS\n",
    "- Soft or hard-floor caster options.\n",
    "- Two choices of seat foam densities: \n",
    " medium (1.8 lb/ft3) or high (2.8 lb/ft3)\n",
    "- Armless or 8 position PU armrests \n",
    "\n",
    "MATERIALS\n",
    "SHELL BASE GLIDER\n",
    "- Cast Aluminum with modified nylon PA6/PA66 coating.\n",
    "- Shell thickness: 10 mm.\n",
    "SEAT\n",
    "- HD36 foam\n",
    "\n",
    "COUNTRY OF ORIGIN\n",
    "- Italy\n",
    "\"\"\""
   ]
  },
  {
   "cell_type": "code",
   "execution_count": 13,
   "metadata": {},
   "outputs": [
    {
     "name": "stdout",
     "output_type": "stream",
     "text": [
      "Introducing our stunning mid-century inspired office chair, a perfect addition to any home or business setting. This chair is part of a beautiful family of office furniture, including filing cabinets, desks, bookcases, meeting tables, and more. With its sleek design and customizable options, it is sure to elevate the style and functionality of any workspace.\n",
      "\n",
      "The chair comes in several options of shell color and base finishes, allowing you to choose the perfect combination to match your aesthetic. You can opt for the plastic back and front upholstery (SWC-100) or the full upholstery (SWC-110) available in a range of 10 fabric and 6 leather options. The base finish options include stainless steel, matte black, gloss white, or chrome.\n",
      "\n",
      "For added comfort and versatility, the chair is available with or without armrests. The 5-wheel plastic coated aluminum base ensures stability and mobility, while the pneumatic chair adjust allows for easy raise and lower action.\n",
      "\n",
      "In terms of dimensions, the chair measures 53 cm in width, 51 cm in depth, and 80 cm in height. The seat height is 44 cm, and the seat depth is 41 cm, providing optimal support and comfort.\n",
      "\n",
      "We offer various options to suit your specific needs. You can choose between soft or hard-floor caster options, depending on your flooring type. Additionally, you have the choice of two seat foam densities: medium (1.8 lb/ft3) or high (2.8 lb/ft3). The chair is also available with armless design or 8 position PU armrests, allowing you to customize it further to your liking.\n",
      "\n",
      "Crafted with high-quality materials, the shell base glider is made of cast aluminum with a modified nylon PA6/PA66 coating, ensuring durability and longevity. The shell thickness is 10 mm, providing a sturdy and reliable structure. The seat is made of HD36 foam, offering exceptional comfort and support.\n",
      "\n",
      "This exceptional office chair is proudly made in Italy, known for its craftsmanship and attention to detail. It is qualified for contract use, making it suitable for various professional settings.\n",
      "\n",
      "Elevate your workspace with our mid-century inspired office chair. With its stylish design, customizable options, and superior construction, it is the perfect choice for those seeking both comfort and sophistication.\n",
      "\n",
      "Word count: 346\n"
     ]
    }
   ],
   "source": [
    "prompt = f\"\"\"\n",
    "Please help a marketing team create a \n",
    "description for a retail website of a product based \n",
    "on a technical fact sheet.\n",
    "\n",
    "Write a product description based on the information \n",
    "provided in the technical specifications delimited by \n",
    "triple backticks.\n",
    "\n",
    "And in a new line, state word count of the description\n",
    "\n",
    "Technical specifications: ```{fact_sheet_chair}```\n",
    "\"\"\"\n",
    "response = get_completion(prompt)\n",
    "print(response)"
   ]
  },
  {
   "cell_type": "markdown",
   "metadata": {},
   "source": [
    "## Issues\n",
    "1. Text is too long (346 words) = <b>add \"Use at most 50 words\"</b>\n",
    "2. Text is not for the intended audience, furniture retailers:<br>\n",
    "> 1) add <b> \"The description is intended for furniture retailers, so should be technical in nature and focus on the  materials the product is constructed from\"\n",
    "    <br></b>2) add <b>\"At the end of the description, include 7-character \n",
    "Product ID in the technical specification\"</b>\n",
    "3. Description needs a table of dimensions =\n",
    "> <b> After the description, include a table that gives the \n",
    "product's dimensions. <br> The table should have two columns.\n",
    ">> In the first column include the name of the dimension. <br>\n",
    ">> In the second column include the measurements in inches only.</b>"
   ]
  },
  {
   "cell_type": "code",
   "execution_count": 15,
   "metadata": {},
   "outputs": [
    {
     "name": "stdout",
     "output_type": "stream",
     "text": [
      "Introducing our mid-century inspired office chair, perfect for both home and business settings. Constructed with a 5-wheel plastic coated aluminum base and a pneumatic chair adjust for easy raise/lower action. Choose from a variety of shell colors and base finishes. Available with plastic or full upholstery in multiple fabric and leather options. Suitable for contract use. Product ID: SWC-100, SWC-110.\n",
      "\n",
      "Dimensions:\n",
      "- Width: 20.87\"\n",
      "- Depth: 20.08\"\n",
      "- Height: 31.50\"\n",
      "- Seat Height: 17.32\"\n",
      "- Seat Depth: 16.14\"\n",
      "\n",
      "Materials:\n",
      "- Shell Base Glider: Cast Aluminum with modified nylon PA6/PA66 coating. Shell thickness: 10 mm.\n",
      "- Seat: HD36 foam\n",
      "\n",
      "Country of Origin: Italy\n"
     ]
    }
   ],
   "source": [
    "prompt = f\"\"\"\n",
    "Please help a marketing team create a \n",
    "description for a retail website of a product based \n",
    "on a technical fact sheet.\n",
    "\n",
    "Use at most 50 words.\n",
    "\n",
    "The description is intended for furniture retailers, \n",
    "so should be technical in nature and focus on the \n",
    "materials the product is constructed from.\n",
    "\n",
    "At the end of the description, include every 7-character \n",
    "Product ID in the technical specification.\n",
    "\n",
    "After the description, include a table that gives the \n",
    "product's dimensions. The table should have two columns.\n",
    "In the first column include the name of the dimension. \n",
    "In the second column include the measurements in inches only.\n",
    "\n",
    "Technical specifications: ```{fact_sheet_chair}```\n",
    "\"\"\"\n",
    "\n",
    "response = get_completion(prompt)\n",
    "print(response)"
   ]
  },
  {
   "cell_type": "markdown",
   "metadata": {},
   "source": [
    "## Next Step\n",
    "Render it in HTLM format with title \"Product Dimensions\"\n",
    "1. Give the table the title 'Product Dimensions'.\n",
    "2. Format everything as HTML that can be used in a website. Place the description in a \"< div> element\"."
   ]
  },
  {
   "cell_type": "code",
   "execution_count": 16,
   "metadata": {},
   "outputs": [
    {
     "name": "stdout",
     "output_type": "stream",
     "text": [
      "<div>\n",
      "  <h2>Product Description</h2>\n",
      "  <p>\n",
      "    Introducing our latest addition to the mid-century inspired office furniture collection - the SWC Chair. This sleek and stylish chair is part of a beautiful family of furniture that includes filing cabinets, desks, bookcases, meeting tables, and more. Designed with both home and business settings in mind, the SWC Chair is the perfect choice for any modern workspace.\n",
      "  </p>\n",
      "  <p>\n",
      "    The SWC Chair offers a range of customization options to suit your preferences. Choose from several options of shell color and base finishes, allowing you to create a chair that perfectly matches your existing decor. The chair is available with plastic back and front upholstery (SWC-100) or full upholstery (SWC-110) in a variety of fabric and leather options, giving you the freedom to select the material that best suits your style.\n",
      "  </p>\n",
      "  <p>\n",
      "    The chair features a 5-wheel plastic coated aluminum base, providing stability and mobility. With a pneumatic chair adjust, you can easily raise or lower the chair to your desired height, ensuring optimal comfort throughout the day. The SWC Chair is also available with or without armrests, allowing you to choose the configuration that best suits your needs.\n",
      "  </p>\n",
      "  <p>\n",
      "    Crafted with quality and durability in mind, the SWC Chair is suitable for both home and contract use. Its sturdy construction and attention to detail make it a reliable and long-lasting addition to any workspace. Made in Italy, you can trust that this chair is crafted with the highest standards of craftsmanship and design.\n",
      "  </p>\n",
      "  <h3>Product ID:</h3>\n",
      "  <ul>\n",
      "    <li>SWC-100</li>\n",
      "    <li>SWC-110</li>\n",
      "  </ul>\n",
      "  <h2>Product Dimensions</h2>\n",
      "  <table>\n",
      "    <tr>\n",
      "      <th>Dimension</th>\n",
      "      <th>Measurement (inches)</th>\n",
      "    </tr>\n",
      "    <tr>\n",
      "      <td>Width</td>\n",
      "      <td>20.87\"</td>\n",
      "    </tr>\n",
      "    <tr>\n",
      "      <td>Depth</td>\n",
      "      <td>20.08\"</td>\n",
      "    </tr>\n",
      "    <tr>\n",
      "      <td>Height</td>\n",
      "      <td>31.50\"</td>\n",
      "    </tr>\n",
      "    <tr>\n",
      "      <td>Seat Height</td>\n",
      "      <td>17.32\"</td>\n",
      "    </tr>\n",
      "    <tr>\n",
      "      <td>Seat Depth</td>\n",
      "      <td>16.14\"</td>\n",
      "    </tr>\n",
      "  </table>\n",
      "</div>\n"
     ]
    }
   ],
   "source": [
    "prompt = f\"\"\"\n",
    "Your task is to help a marketing team create a \n",
    "description for a retail website of a product based \n",
    "on a technical fact sheet.\n",
    "\n",
    "The description is intended for furniture retailers, \n",
    "so should be technical in nature and focus on the \n",
    "materials the product is constructed from.\n",
    "\n",
    "At the end of the description, include every 7-character \n",
    "Product ID in the technical specification.\n",
    "\n",
    "After the description, include a table that gives the \n",
    "product's dimensions. The table should have two columns.\n",
    "In the first column include the name of the dimension. \n",
    "In the second column include the measurements in inches only.\n",
    "\n",
    "Give the table the title 'Product Dimensions'.\n",
    "\n",
    "Format everything as HTML that can be used in a website. \n",
    "Place the description in a <div> element.\n",
    "\n",
    "Technical specifications: ```{fact_sheet_chair}```\n",
    "\"\"\"\n",
    "\n",
    "response = get_completion(prompt)\n",
    "print(response)"
   ]
  },
  {
   "cell_type": "markdown",
   "metadata": {},
   "source": [
    "## Load Python libraries to view HTML"
   ]
  },
  {
   "cell_type": "code",
   "execution_count": 17,
   "metadata": {},
   "outputs": [
    {
     "data": {
      "text/html": [
       "<div>\n",
       "  <h2>Product Description</h2>\n",
       "  <p>\n",
       "    Introducing our latest addition to the mid-century inspired office furniture collection - the SWC Chair. This sleek and stylish chair is part of a beautiful family of furniture that includes filing cabinets, desks, bookcases, meeting tables, and more. Designed with both home and business settings in mind, the SWC Chair is the perfect choice for any modern workspace.\n",
       "  </p>\n",
       "  <p>\n",
       "    The SWC Chair offers a range of customization options to suit your preferences. Choose from several options of shell color and base finishes, allowing you to create a chair that perfectly matches your existing decor. The chair is available with plastic back and front upholstery (SWC-100) or full upholstery (SWC-110) in a variety of fabric and leather options, giving you the freedom to select the material that best suits your style.\n",
       "  </p>\n",
       "  <p>\n",
       "    The chair features a 5-wheel plastic coated aluminum base, providing stability and mobility. With a pneumatic chair adjust, you can easily raise or lower the chair to your desired height, ensuring optimal comfort throughout the day. The SWC Chair is also available with or without armrests, allowing you to choose the configuration that best suits your needs.\n",
       "  </p>\n",
       "  <p>\n",
       "    Crafted with quality and durability in mind, the SWC Chair is suitable for both home and contract use. Its sturdy construction and attention to detail make it a reliable and long-lasting addition to any workspace. Made in Italy, you can trust that this chair is crafted with the highest standards of craftsmanship and design.\n",
       "  </p>\n",
       "  <h3>Product ID:</h3>\n",
       "  <ul>\n",
       "    <li>SWC-100</li>\n",
       "    <li>SWC-110</li>\n",
       "  </ul>\n",
       "  <h2>Product Dimensions</h2>\n",
       "  <table>\n",
       "    <tr>\n",
       "      <th>Dimension</th>\n",
       "      <th>Measurement (inches)</th>\n",
       "    </tr>\n",
       "    <tr>\n",
       "      <td>Width</td>\n",
       "      <td>20.87\"</td>\n",
       "    </tr>\n",
       "    <tr>\n",
       "      <td>Depth</td>\n",
       "      <td>20.08\"</td>\n",
       "    </tr>\n",
       "    <tr>\n",
       "      <td>Height</td>\n",
       "      <td>31.50\"</td>\n",
       "    </tr>\n",
       "    <tr>\n",
       "      <td>Seat Height</td>\n",
       "      <td>17.32\"</td>\n",
       "    </tr>\n",
       "    <tr>\n",
       "      <td>Seat Depth</td>\n",
       "      <td>16.14\"</td>\n",
       "    </tr>\n",
       "  </table>\n",
       "</div>"
      ],
      "text/plain": [
       "<IPython.core.display.HTML object>"
      ]
     },
     "metadata": {},
     "output_type": "display_data"
    }
   ],
   "source": [
    "from IPython.display import display, HTML\n",
    "display(HTML(response))"
   ]
  },
  {
   "cell_type": "markdown",
   "metadata": {},
   "source": [
    "## Try experimenting on your own!"
   ]
  },
  {
   "cell_type": "code",
   "execution_count": 24,
   "metadata": {},
   "outputs": [],
   "source": [
    "prompt = f\"\"\"\n",
    "Assume you have all the knowledge that the internet offers.\n",
    "Please write a description of a book, Principles by Ray Dalio.\n",
    "\n",
    "Your target audience is a career driven adult in their 30s with MBA from top 10 US schools.\n",
    "In addition to a general summary of this book, you want to list why they might enjoy this book and why they might hate the book in two separate lists. \n",
    "\n",
    "Each bullet point should be formated in (header):(details) and each header should be in boldface.\n",
    "\n",
    "Then finally you want to have a table that gives 1) available format, and 3) price of the book in each format (in USD) as well as item in the header\n",
    "\n",
    "Format everything as HTML that can be used in a website. \n",
    "Place the description in a <div> element.\n",
    "\n",
    "Book Description: ```{fact_sheet_chair}```\n",
    "\"\"\"\n",
    "book_response = get_completion(prompt)"
   ]
  },
  {
   "cell_type": "code",
   "execution_count": 27,
   "metadata": {},
   "outputs": [
    {
     "data": {
      "text/html": [
       "<div>\n",
       "  <h2><b>Book Description: Principles by Ray Dalio</b></h2>\n",
       "  <p>\n",
       "    Principles by Ray Dalio is a thought-provoking and insightful book that offers a comprehensive guide to achieving success in both personal and professional life. Drawing from his own experiences as the founder of Bridgewater Associates, one of the world's largest hedge funds, Dalio shares his principles for effective decision-making, leadership, and personal growth. This book is a must-read for career-driven adults in their 30s with an MBA from a top 10 US school, as it provides valuable insights and practical advice for navigating the complexities of the business world.\n",
       "  </p>\n",
       "  \n",
       "  <h3><b>Why You Might Enjoy This Book:</b></h3>\n",
       "  <ul>\n",
       "    <li><b>Practical Guidance:</b> Principles offers actionable advice and strategies that can be applied to various aspects of your career and personal life.</li>\n",
       "    <li><b>Real-Life Examples:</b> Ray Dalio shares his own experiences and lessons learned, making the book relatable and inspiring.</li>\n",
       "    <li><b>Insights from a Successful Entrepreneur:</b> As the founder of Bridgewater Associates, Dalio's principles are backed by his remarkable success in the business world.</li>\n",
       "    <li><b>Comprehensive Approach:</b> The book covers a wide range of topics, including decision-making, leadership, and personal development, providing a holistic perspective on achieving success.</li>\n",
       "  </ul>\n",
       "  \n",
       "  <h3><b>Why You Might Hate This Book:</b></h3>\n",
       "  <ul>\n",
       "    <li><b>Lengthy and Detailed:</b> Principles is a substantial book with in-depth explanations and examples, which may be overwhelming for some readers.</li>\n",
       "    <li><b>Heavy on Business Concepts:</b> The book primarily focuses on principles related to the business world, which may not be of interest to individuals outside of this field.</li>\n",
       "    <li><b>Strong Opinions:</b> Ray Dalio presents his principles with conviction, which may not resonate with readers who have different perspectives or beliefs.</li>\n",
       "    <li><b>Requires Self-Reflection:</b> To fully benefit from the book, readers need to be open to self-reflection and introspection, which may not be appealing to everyone.</li>\n",
       "  </ul>\n",
       "  \n",
       "  <table>\n",
       "    <tr>\n",
       "      <th><b>Format</b></th>\n",
       "      <th><b>Price (USD)</b></th>\n",
       "    </tr>\n",
       "    <tr>\n",
       "      <td>Hardcover</td>\n",
       "      <td>$25.99</td>\n",
       "    </tr>\n",
       "    <tr>\n",
       "      <td>Paperback</td>\n",
       "      <td>$14.99</td>\n",
       "    </tr>\n",
       "    <tr>\n",
       "      <td>eBook</td>\n",
       "      <td>$9.99</td>\n",
       "    </tr>\n",
       "    <tr>\n",
       "      <td>Audiobook</td>\n",
       "      <td>$19.99</td>\n",
       "    </tr>\n",
       "  </table>\n",
       "</div>"
      ],
      "text/plain": [
       "<IPython.core.display.HTML object>"
      ]
     },
     "metadata": {},
     "output_type": "display_data"
    }
   ],
   "source": [
    "display(HTML(book_response))"
   ]
  },
  {
   "cell_type": "code",
   "execution_count": null,
   "metadata": {},
   "outputs": [],
   "source": []
  }
 ],
 "metadata": {
  "kernelspec": {
   "display_name": "Python 3",
   "language": "python",
   "name": "python3"
  },
  "language_info": {
   "codemirror_mode": {
    "name": "ipython",
    "version": 3
   },
   "file_extension": ".py",
   "mimetype": "text/x-python",
   "name": "python",
   "nbconvert_exporter": "python",
   "pygments_lexer": "ipython3",
   "version": "3.7.6"
  }
 },
 "nbformat": 4,
 "nbformat_minor": 4
}
