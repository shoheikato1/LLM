{
 "cells": [
  {
   "cell_type": "markdown",
   "metadata": {},
   "source": [
    "# Summarizing\n",
    "1. Focus on certain aspects of the product: focusing on any aspects that mention <b>shipping and delivery</b> of the product\n",
    "2. Extract instead of summary: extract any information relevant to A and B\n",
    "3. Repeat the exercise for multiple items: for i in range(len(abc)):"
   ]
  },
  {
   "cell_type": "code",
   "execution_count": 15,
   "metadata": {},
   "outputs": [],
   "source": [
    "import openai\n",
    "import os\n",
    "from IPython.display import display, HTML\n",
    "\n",
    "from dotenv import load_dotenv, find_dotenv\n",
    "_ = load_dotenv(find_dotenv()) # read local .env file\n",
    "\n",
    "openai.api_key  = os.getenv('OPENAI_API_KEY')"
   ]
  },
  {
   "cell_type": "code",
   "execution_count": 2,
   "metadata": {},
   "outputs": [],
   "source": [
    "def get_completion(prompt, model=\"gpt-3.5-turbo\"): # Andrew mentioned that the prompt/ completion paradigm is preferable for this class\n",
    "    messages = [{\"role\": \"user\", \"content\": prompt}]\n",
    "    response = openai.ChatCompletion.create(\n",
    "        model=model,\n",
    "        messages=messages,\n",
    "        temperature=0, # this is the degree of randomness of the model's output\n",
    "    )\n",
    "    return response.choices[0].message[\"content\"]"
   ]
  },
  {
   "cell_type": "markdown",
   "metadata": {},
   "source": [
    "## Text to Summarize"
   ]
  },
  {
   "cell_type": "code",
   "execution_count": 3,
   "metadata": {},
   "outputs": [],
   "source": [
    "prod_review = \"\"\"\n",
    "Got this panda plush toy for my daughter's birthday, \\\n",
    "who loves it and takes it everywhere. It's soft and \\ \n",
    "super cute, and its face has a friendly look. It's \\ \n",
    "a bit small for what I paid though. I think there \\ \n",
    "might be other options that are bigger for the \\ \n",
    "same price. It arrived a day earlier than expected, \\ \n",
    "so I got to play with it myself before I gave it \\ \n",
    "to her.\n",
    "\"\"\""
   ]
  },
  {
   "cell_type": "markdown",
   "metadata": {},
   "source": [
    "## Summarizing with a word/sentence/character limit"
   ]
  },
  {
   "cell_type": "code",
   "execution_count": 4,
   "metadata": {},
   "outputs": [
    {
     "name": "stdout",
     "output_type": "stream",
     "text": [
      "This panda plush toy is loved by the reviewer's daughter, but they feel it is a bit small for the price.\n"
     ]
    }
   ],
   "source": [
    "prompt = f\"\"\"\n",
    "Your task is to generate a short summary of a product \\\n",
    "review from an ecommerce site. \n",
    "\n",
    "Summarize the review below, delimited by triple \n",
    "backticks, in at most 30 words. \n",
    "\n",
    "Review: ```{prod_review}```\n",
    "\"\"\"\n",
    "\n",
    "response = get_completion(prompt)\n",
    "print(response)"
   ]
  },
  {
   "cell_type": "markdown",
   "metadata": {},
   "source": [
    "## With a focus on shipping and delivery\n",
    "- focusing on any aspects that mention <b> shipping and delivery</b> of the product"
   ]
  },
  {
   "cell_type": "code",
   "execution_count": 5,
   "metadata": {},
   "outputs": [
    {
     "name": "stdout",
     "output_type": "stream",
     "text": [
      "The customer is happy with the product but suggests offering larger options for the same price. They also mention that the item arrived earlier than expected.\n"
     ]
    }
   ],
   "source": [
    "# Summarize with a focus on shipping and delivery\n",
    "\"\"\"\n",
    "'focusing on any aspects \\\n",
    "that mention shipping and delivery of the product.'\n",
    "\"\"\"\n",
    "\n",
    "prompt = f\"\"\"\n",
    "Your task is to generate a short summary of a product \\\n",
    "review from an ecommerce site to give feedback to the \\\n",
    "Shipping deparmtment. \n",
    "\n",
    "Summarize the review below, delimited by triple \n",
    "backticks, in at most 30 words, and focusing on any aspects \\\n",
    "that mention shipping and delivery of the product. \n",
    "\n",
    "Review: ```{prod_review}```\n",
    "\"\"\"\n",
    "\n",
    "response = get_completion(prompt)\n",
    "print(response)"
   ]
  },
  {
   "cell_type": "markdown",
   "metadata": {},
   "source": [
    "## Extract instead of Summarize\n",
    "- extract the information relevant to shipping and delivery"
   ]
  },
  {
   "cell_type": "code",
   "execution_count": 6,
   "metadata": {},
   "outputs": [
    {
     "name": "stdout",
     "output_type": "stream",
     "text": [
      "The shipping department should take note that the product arrived a day earlier than expected.\n"
     ]
    }
   ],
   "source": [
    "prompt = f\"\"\"\n",
    "Your task is to extract relevant information from \\ \n",
    "a product review from an ecommerce site to give \\\n",
    "feedback to the Shipping department. \n",
    "\n",
    "From the review below, delimited by triple quotes \\\n",
    "extract the information relevant to shipping and \\ \n",
    "delivery. Limit to 30 words. \n",
    "\n",
    "Review: ```{prod_review}```\n",
    "\"\"\"\n",
    "\n",
    "response = get_completion(prompt)\n",
    "print(response)"
   ]
  },
  {
   "cell_type": "markdown",
   "metadata": {},
   "source": [
    "## Summarize multiple product reviews\n",
    "- for i in range(len(reviews)):"
   ]
  },
  {
   "cell_type": "code",
   "execution_count": 7,
   "metadata": {},
   "outputs": [],
   "source": [
    "\n",
    "review_1 = prod_review \n",
    "\n",
    "# review for a standing lamp\n",
    "review_2 = \"\"\"\n",
    "Needed a nice lamp for my bedroom, and this one \\\n",
    "had additional storage and not too high of a price \\\n",
    "point. Got it fast - arrived in 2 days. The string \\\n",
    "to the lamp broke during the transit and the company \\\n",
    "happily sent over a new one. Came within a few days \\\n",
    "as well. It was easy to put together. Then I had a \\\n",
    "missing part, so I contacted their support and they \\\n",
    "very quickly got me the missing piece! Seems to me \\\n",
    "to be a great company that cares about their customers \\\n",
    "and products. \n",
    "\"\"\"\n",
    "\n",
    "# review for an electric toothbrush\n",
    "review_3 = \"\"\"\n",
    "My dental hygienist recommended an electric toothbrush, \\\n",
    "which is why I got this. The battery life seems to be \\\n",
    "pretty impressive so far. After initial charging and \\\n",
    "leaving the charger plugged in for the first week to \\\n",
    "condition the battery, I've unplugged the charger and \\\n",
    "been using it for twice daily brushing for the last \\\n",
    "3 weeks all on the same charge. But the toothbrush head \\\n",
    "is too small. I’ve seen baby toothbrushes bigger than \\\n",
    "this one. I wish the head was bigger with different \\\n",
    "length bristles to get between teeth better because \\\n",
    "this one doesn’t.  Overall if you can get this one \\\n",
    "around the $50 mark, it's a good deal. The manufactuer's \\\n",
    "replacements heads are pretty expensive, but you can \\\n",
    "get generic ones that're more reasonably priced. This \\\n",
    "toothbrush makes me feel like I've been to the dentist \\\n",
    "every day. My teeth feel sparkly clean! \n",
    "\"\"\"\n",
    "\n",
    "# review for a blender\n",
    "review_4 = \"\"\"\n",
    "So, they still had the 17 piece system on seasonal \\\n",
    "sale for around $49 in the month of November, about \\\n",
    "half off, but for some reason (call it price gouging) \\\n",
    "around the second week of December the prices all went \\\n",
    "up to about anywhere from between $70-$89 for the same \\\n",
    "system. And the 11 piece system went up around $10 or \\\n",
    "so in price also from the earlier sale price of $29. \\\n",
    "So it looks okay, but if you look at the base, the part \\\n",
    "where the blade locks into place doesn’t look as good \\\n",
    "as in previous editions from a few years ago, but I \\\n",
    "plan to be very gentle with it (example, I crush \\\n",
    "very hard items like beans, ice, rice, etc. in the \\ \n",
    "blender first then pulverize them in the serving size \\\n",
    "I want in the blender then switch to the whipping \\\n",
    "blade for a finer flour, and use the cross cutting blade \\\n",
    "first when making smoothies, then use the flat blade \\\n",
    "if I need them finer/less pulpy). Special tip when making \\\n",
    "smoothies, finely cut and freeze the fruits and \\\n",
    "vegetables (if using spinach-lightly stew soften the \\ \n",
    "spinach then freeze until ready for use-and if making \\\n",
    "sorbet, use a small to medium sized food processor) \\ \n",
    "that you plan to use that way you can avoid adding so \\\n",
    "much ice if at all-when making your smoothie. \\\n",
    "After about a year, the motor was making a funny noise. \\\n",
    "I called customer service but the warranty expired \\\n",
    "already, so I had to buy another one. FYI: The overall \\\n",
    "quality has gone done in these types of products, so \\\n",
    "they are kind of counting on brand recognition and \\\n",
    "consumer loyalty to maintain sales. Got it in about \\\n",
    "two days.\n",
    "\"\"\"\n",
    "\n",
    "reviews = [review_1, review_2, review_3, review_4]\n",
    "\n"
   ]
  },
  {
   "cell_type": "code",
   "execution_count": 26,
   "metadata": {},
   "outputs": [
    {
     "name": "stdout",
     "output_type": "stream",
     "text": [
      "0 <table>\n",
      "  <tr>\n",
      "    <th>Product</th>\n",
      "    <th>Criteria</th>\n",
      "  </tr>\n",
      "  <tr>\n",
      "    <td>Panda Plush Toy</td>\n",
      "    <td>Softness</td>\n",
      "  </tr>\n",
      "  <tr>\n",
      "    <td>Panda Plush Toy</td>\n",
      "    <td>Cuteness</td>\n",
      "  </tr>\n",
      "  <tr>\n",
      "    <td>Panda Plush Toy</td>\n",
      "    <td>Size</td>\n",
      "  </tr>\n",
      "  <tr>\n",
      "    <td>Panda Plush Toy</td>\n",
      "    <td>Price</td>\n",
      "  </tr>\n",
      "  <tr>\n",
      "    <td>Panda Plush Toy</td>\n",
      "    <td>Delivery</td>\n",
      "  </tr>\n",
      "</table> \n",
      "\n",
      "1 <table>\n",
      "  <tr>\n",
      "    <th>Product</th>\n",
      "    <th>Criteria</th>\n",
      "  </tr>\n",
      "  <tr>\n",
      "    <td rowspan=\"3\">Lamp</td>\n",
      "    <td>Additional storage</td>\n",
      "  </tr>\n",
      "  <tr>\n",
      "    <td>Price point</td>\n",
      "  </tr>\n",
      "  <tr>\n",
      "    <td>Fast delivery</td>\n",
      "  </tr>\n",
      "  <tr>\n",
      "    <td rowspan=\"2\">Company</td>\n",
      "    <td>Responsive customer support</td>\n",
      "  </tr>\n",
      "  <tr>\n",
      "    <td>Quality products</td>\n",
      "  </tr>\n",
      "</table> \n",
      "\n",
      "2 <table>\n",
      "  <tr>\n",
      "    <th>Product</th>\n",
      "    <th>Criteria</th>\n",
      "  </tr>\n",
      "  <tr>\n",
      "    <td rowspan=\"2\">Electric Toothbrush</td>\n",
      "    <td>Battery Life</td>\n",
      "  </tr>\n",
      "  <tr>\n",
      "    <td>Head Size and Bristles</td>\n",
      "  </tr>\n",
      "  <tr>\n",
      "    <td rowspan=\"2\">Overall</td>\n",
      "    <td>Price</td>\n",
      "  </tr>\n",
      "  <tr>\n",
      "    <td>Effectiveness</td>\n",
      "  </tr>\n",
      "</table> \n",
      "\n",
      "3 <table>\n",
      "  <tr>\n",
      "    <th>Product</th>\n",
      "    <th>Criteria</th>\n",
      "  </tr>\n",
      "  <tr>\n",
      "    <td rowspan=\"2\">17 piece system</td>\n",
      "    <td>Price</td>\n",
      "  </tr>\n",
      "  <tr>\n",
      "    <td>Blade lock quality</td>\n",
      "  </tr>\n",
      "  <tr>\n",
      "    <td rowspan=\"2\">11 piece system</td>\n",
      "    <td>Price</td>\n",
      "  </tr>\n",
      "  <tr>\n",
      "    <td>Blade lock quality</td>\n",
      "  </tr>\n",
      "  <tr>\n",
      "    <td>Motor</td>\n",
      "    <td>Performance</td>\n",
      "  </tr>\n",
      "  <tr>\n",
      "    <td>Customer service</td>\n",
      "    <td>Warranty</td>\n",
      "  </tr>\n",
      "  <tr>\n",
      "    <td>Overall quality</td>\n",
      "    <td>Product reliability</td>\n",
      "  </tr>\n",
      "  <tr>\n",
      "    <td>Delivery</td>\n",
      "    <td>Shipping time</td>\n",
      "  </tr>\n",
      "</table> \n",
      "\n"
     ]
    }
   ],
   "source": [
    "for i in range(len(reviews)):\n",
    "    prompt = f\"\"\"\n",
    "    Your task is to generate a short summary of a product \\ \n",
    "    review from an ecommerce site. \n",
    "\n",
    "    Summarize the review below in a table format with product in column and criteria in row \\\n",
    "    backticks in at most 20 words, in HTML and CSS format.\n",
    "\n",
    "    Review: ```{reviews[i]}```\n",
    "    \"\"\"\n",
    "\n",
    "    response = get_completion(prompt)\n",
    "    print(i, response, \"\\n\")\n"
   ]
  },
  {
   "cell_type": "code",
   "execution_count": 27,
   "metadata": {},
   "outputs": [
    {
     "data": {
      "text/html": [
       "<table>\n",
       "  <tr>\n",
       "    <th>Product</th>\n",
       "    <th>Criteria</th>\n",
       "  </tr>\n",
       "  <tr>\n",
       "    <td rowspan=\"2\">17 piece system</td>\n",
       "    <td>Price</td>\n",
       "  </tr>\n",
       "  <tr>\n",
       "    <td>Blade lock quality</td>\n",
       "  </tr>\n",
       "  <tr>\n",
       "    <td rowspan=\"2\">11 piece system</td>\n",
       "    <td>Price</td>\n",
       "  </tr>\n",
       "  <tr>\n",
       "    <td>Blade lock quality</td>\n",
       "  </tr>\n",
       "  <tr>\n",
       "    <td>Motor</td>\n",
       "    <td>Performance</td>\n",
       "  </tr>\n",
       "  <tr>\n",
       "    <td>Customer service</td>\n",
       "    <td>Warranty</td>\n",
       "  </tr>\n",
       "  <tr>\n",
       "    <td>Overall quality</td>\n",
       "    <td>Product reliability</td>\n",
       "  </tr>\n",
       "  <tr>\n",
       "    <td>Delivery</td>\n",
       "    <td>Shipping time</td>\n",
       "  </tr>\n",
       "</table>"
      ],
      "text/plain": [
       "<IPython.core.display.HTML object>"
      ]
     },
     "metadata": {},
     "output_type": "display_data"
    }
   ],
   "source": [
    "display(HTML(response))"
   ]
  },
  {
   "cell_type": "code",
   "execution_count": null,
   "metadata": {},
   "outputs": [],
   "source": []
  },
  {
   "cell_type": "code",
   "execution_count": null,
   "metadata": {},
   "outputs": [],
   "source": []
  }
 ],
 "metadata": {
  "kernelspec": {
   "display_name": "Python 3",
   "language": "python",
   "name": "python3"
  },
  "language_info": {
   "codemirror_mode": {
    "name": "ipython",
    "version": 3
   },
   "file_extension": ".py",
   "mimetype": "text/x-python",
   "name": "python",
   "nbconvert_exporter": "python",
   "pygments_lexer": "ipython3",
   "version": "3.7.6"
  }
 },
 "nbformat": 4,
 "nbformat_minor": 4
}
